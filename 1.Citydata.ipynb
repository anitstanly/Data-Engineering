{
 "cells": [
  {
   "cell_type": "markdown",
   "id": "4f0837c1-8bf6-4dac-b2b8-38fca220a19f",
   "metadata": {},
   "source": [
    "### Connecting country to SQL"
   ]
  },
  {
   "cell_type": "code",
   "execution_count": 20,
   "id": "2e754ae4-8484-4cd3-87d5-2b83ab623e53",
   "metadata": {},
   "outputs": [
    {
     "data": {
      "text/html": [
       "<div>\n",
       "<style scoped>\n",
       "    .dataframe tbody tr th:only-of-type {\n",
       "        vertical-align: middle;\n",
       "    }\n",
       "\n",
       "    .dataframe tbody tr th {\n",
       "        vertical-align: top;\n",
       "    }\n",
       "\n",
       "    .dataframe thead th {\n",
       "        text-align: right;\n",
       "    }\n",
       "</style>\n",
       "<table border=\"1\" class=\"dataframe\">\n",
       "  <thead>\n",
       "    <tr style=\"text-align: right;\">\n",
       "      <th></th>\n",
       "      <th>country_name</th>\n",
       "    </tr>\n",
       "  </thead>\n",
       "  <tbody>\n",
       "    <tr>\n",
       "      <th>0</th>\n",
       "      <td>Germany</td>\n",
       "    </tr>\n",
       "    <tr>\n",
       "      <th>1</th>\n",
       "      <td>France</td>\n",
       "    </tr>\n",
       "    <tr>\n",
       "      <th>2</th>\n",
       "      <td>Netherlands</td>\n",
       "    </tr>\n",
       "  </tbody>\n",
       "</table>\n",
       "</div>"
      ],
      "text/plain": [
       "  country_name\n",
       "0      Germany\n",
       "1       France\n",
       "2  Netherlands"
      ]
     },
     "execution_count": 20,
     "metadata": {},
     "output_type": "execute_result"
    }
   ],
   "source": [
    "#Connecting Country\n",
    "countries=[\"Germany\",\"France\",\"Netherlands\"]\n",
    "country_df={\"country_name\":countries}\n",
    "country=pd.DataFrame(country_df)\n",
    "country"
   ]
  },
  {
   "cell_type": "code",
   "execution_count": 25,
   "id": "53da6094-801a-48dd-af35-3a63af8dbae5",
   "metadata": {},
   "outputs": [],
   "source": [
    "from your_passwort_file import sql_root_passwort #calling password from the file "
   ]
  },
  {
   "cell_type": "code",
   "execution_count": 27,
   "id": "83b0de06-2f51-45fd-a9d2-f5c5d9e36a2d",
   "metadata": {},
   "outputs": [],
   "source": [
    "schema = \"gans\"\n",
    "host = \"127.0.0.1\"\n",
    "user = \"root\"\n",
    "password = sql_root_passwort\n",
    "port = 3306\n",
    "\n",
    "connection_string = f'mysql+pymysql://{user}:{password}@{host}:{port}/{schema}'\n"
   ]
  },
  {
   "cell_type": "code",
   "execution_count": 29,
   "id": "54b8ee40-4202-4c24-8639-6d19a5b8577e",
   "metadata": {},
   "outputs": [
    {
     "data": {
      "text/plain": [
       "3"
      ]
     },
     "execution_count": 29,
     "metadata": {},
     "output_type": "execute_result"
    }
   ],
   "source": [
    "country.to_sql('country',\n",
    "                  if_exists='append',\n",
    "                  con=connection_string,\n",
    "                  index=False)"
   ]
  },
  {
   "cell_type": "code",
   "execution_count": 34,
   "id": "7657a45c-cdf4-43ac-b2e4-cd73a73d7dea",
   "metadata": {},
   "outputs": [],
   "source": [
    "#Connection string for connecting python and SQL\n",
    "def create_connection_string():\n",
    "    schema = \"gans\"\n",
    "    host = \"127.0.0.1\"\n",
    "    user = \"root\"\n",
    "    password = sql_root_passwort\n",
    "    port = 3306\n",
    "    return f'mysql+pymysql://{user}:{password}@{host}:{port}/{schema}'"
   ]
  },
  {
   "cell_type": "code",
   "execution_count": 42,
   "id": "874b1719-b98a-476d-8dfd-2adaa39b8ec7",
   "metadata": {},
   "outputs": [
    {
     "data": {
      "text/html": [
       "<div>\n",
       "<style scoped>\n",
       "    .dataframe tbody tr th:only-of-type {\n",
       "        vertical-align: middle;\n",
       "    }\n",
       "\n",
       "    .dataframe tbody tr th {\n",
       "        vertical-align: top;\n",
       "    }\n",
       "\n",
       "    .dataframe thead th {\n",
       "        text-align: right;\n",
       "    }\n",
       "</style>\n",
       "<table border=\"1\" class=\"dataframe\">\n",
       "  <thead>\n",
       "    <tr style=\"text-align: right;\">\n",
       "      <th></th>\n",
       "      <th>country_id</th>\n",
       "      <th>country_name</th>\n",
       "    </tr>\n",
       "  </thead>\n",
       "  <tbody>\n",
       "    <tr>\n",
       "      <th>0</th>\n",
       "      <td>1</td>\n",
       "      <td>Germany</td>\n",
       "    </tr>\n",
       "    <tr>\n",
       "      <th>1</th>\n",
       "      <td>2</td>\n",
       "      <td>France</td>\n",
       "    </tr>\n",
       "    <tr>\n",
       "      <th>2</th>\n",
       "      <td>3</td>\n",
       "      <td>Netherlands</td>\n",
       "    </tr>\n",
       "  </tbody>\n",
       "</table>\n",
       "</div>"
      ],
      "text/plain": [
       "   country_id country_name\n",
       "0           1      Germany\n",
       "1           2       France\n",
       "2           3  Netherlands"
      ]
     },
     "execution_count": 42,
     "metadata": {},
     "output_type": "execute_result"
    }
   ],
   "source": [
    "connection_string = create_connection_string()\n",
    "\n",
    "\n",
    "country_from_sql=pd.read_sql('country',con=connection_string)\n",
    "country_from_sql"
   ]
  },
  {
   "cell_type": "markdown",
   "id": "a08e1642-8a7b-4eeb-992c-e24d5258b5ec",
   "metadata": {},
   "source": [
    "### Connecting city data to SQL"
   ]
  },
  {
   "cell_type": "code",
   "execution_count": 50,
   "id": "866be371-0391-4c1c-9fbb-11c7815b5297",
   "metadata": {},
   "outputs": [],
   "source": [
    "import pandas as pd\n",
    "import requests\n",
    "from bs4 import BeautifulSoup\n",
    "from lat_lon_parser import parse  #to convert to decimal\n",
    "\n",
    "def citydetails(cities):\n",
    "\n",
    "    citydetail=[]\n",
    "    \n",
    "    for city in cities:\n",
    "    #Load html\n",
    "      url=f'https://en.wikipedia.org/wiki/{city}'\n",
    "      response=requests.get(url)\n",
    "      city_soup=BeautifulSoup(response.content,'html.parser')\n",
    "      city_latitude=city_soup.find(class_='latitude').get_text()\n",
    "      city_longitude=city_soup.find(class_='longitude').get_text()\n",
    "      city_country=city_soup.find(class_=\"infobox-data\").get_text() \n",
    "      citydetail.append({'city':city,\n",
    "                         'longitude':parse(city_longitude),\n",
    "                         'latitude':parse(city_latitude),\n",
    "                           'country':city_country})\n",
    "    \n",
    "    return pd.DataFrame(citydetail)"
   ]
  },
  {
   "cell_type": "code",
   "execution_count": 52,
   "id": "ccaa181e-d54c-4188-820a-34aab868e550",
   "metadata": {},
   "outputs": [
    {
     "data": {
      "text/html": [
       "<div>\n",
       "<style scoped>\n",
       "    .dataframe tbody tr th:only-of-type {\n",
       "        vertical-align: middle;\n",
       "    }\n",
       "\n",
       "    .dataframe tbody tr th {\n",
       "        vertical-align: top;\n",
       "    }\n",
       "\n",
       "    .dataframe thead th {\n",
       "        text-align: right;\n",
       "    }\n",
       "</style>\n",
       "<table border=\"1\" class=\"dataframe\">\n",
       "  <thead>\n",
       "    <tr style=\"text-align: right;\">\n",
       "      <th></th>\n",
       "      <th>city</th>\n",
       "      <th>longitude</th>\n",
       "      <th>latitude</th>\n",
       "      <th>country</th>\n",
       "    </tr>\n",
       "  </thead>\n",
       "  <tbody>\n",
       "    <tr>\n",
       "      <th>0</th>\n",
       "      <td>Berlin</td>\n",
       "      <td>13.405000</td>\n",
       "      <td>52.520000</td>\n",
       "      <td>Germany</td>\n",
       "    </tr>\n",
       "    <tr>\n",
       "      <th>1</th>\n",
       "      <td>Paris</td>\n",
       "      <td>2.352222</td>\n",
       "      <td>48.856667</td>\n",
       "      <td>France</td>\n",
       "    </tr>\n",
       "    <tr>\n",
       "      <th>2</th>\n",
       "      <td>Hamburg</td>\n",
       "      <td>10.000000</td>\n",
       "      <td>53.550000</td>\n",
       "      <td>Germany</td>\n",
       "    </tr>\n",
       "  </tbody>\n",
       "</table>\n",
       "</div>"
      ],
      "text/plain": [
       "      city  longitude   latitude  country\n",
       "0   Berlin  13.405000  52.520000  Germany\n",
       "1    Paris   2.352222  48.856667   France\n",
       "2  Hamburg  10.000000  53.550000  Germany"
      ]
     },
     "execution_count": 52,
     "metadata": {},
     "output_type": "execute_result"
    }
   ],
   "source": [
    "cities=['Berlin','Paris','Hamburg']\n",
    "citydata=citydetails(cities)\n",
    "citydata"
   ]
  },
  {
   "cell_type": "code",
   "execution_count": 55,
   "id": "3c5ded56-e375-4e40-9330-43b073acc7d3",
   "metadata": {},
   "outputs": [],
   "source": [
    "city=citydata.merge(country_from_sql,\n",
    "                   left_on=\"country\", right_on=\"country_name\",\n",
    "                   how='left')"
   ]
  },
  {
   "cell_type": "code",
   "execution_count": 65,
   "id": "0005f47f-9950-46f9-b89f-cbab6ee94754",
   "metadata": {},
   "outputs": [],
   "source": [
    "city.drop(columns=[\"country\",\"country_name\"],inplace=True)"
   ]
  },
  {
   "cell_type": "code",
   "execution_count": 67,
   "id": "e701d664-a767-46e3-8ffc-9c9e1f07d20b",
   "metadata": {},
   "outputs": [
    {
     "data": {
      "text/html": [
       "<div>\n",
       "<style scoped>\n",
       "    .dataframe tbody tr th:only-of-type {\n",
       "        vertical-align: middle;\n",
       "    }\n",
       "\n",
       "    .dataframe tbody tr th {\n",
       "        vertical-align: top;\n",
       "    }\n",
       "\n",
       "    .dataframe thead th {\n",
       "        text-align: right;\n",
       "    }\n",
       "</style>\n",
       "<table border=\"1\" class=\"dataframe\">\n",
       "  <thead>\n",
       "    <tr style=\"text-align: right;\">\n",
       "      <th></th>\n",
       "      <th>city</th>\n",
       "      <th>longitude</th>\n",
       "      <th>latitude</th>\n",
       "      <th>country_id</th>\n",
       "    </tr>\n",
       "  </thead>\n",
       "  <tbody>\n",
       "    <tr>\n",
       "      <th>0</th>\n",
       "      <td>Berlin</td>\n",
       "      <td>13.405000</td>\n",
       "      <td>52.520000</td>\n",
       "      <td>1</td>\n",
       "    </tr>\n",
       "    <tr>\n",
       "      <th>1</th>\n",
       "      <td>Paris</td>\n",
       "      <td>2.352222</td>\n",
       "      <td>48.856667</td>\n",
       "      <td>2</td>\n",
       "    </tr>\n",
       "    <tr>\n",
       "      <th>2</th>\n",
       "      <td>Hamburg</td>\n",
       "      <td>10.000000</td>\n",
       "      <td>53.550000</td>\n",
       "      <td>1</td>\n",
       "    </tr>\n",
       "  </tbody>\n",
       "</table>\n",
       "</div>"
      ],
      "text/plain": [
       "      city  longitude   latitude  country_id\n",
       "0   Berlin  13.405000  52.520000           1\n",
       "1    Paris   2.352222  48.856667           2\n",
       "2  Hamburg  10.000000  53.550000           1"
      ]
     },
     "execution_count": 67,
     "metadata": {},
     "output_type": "execute_result"
    }
   ],
   "source": [
    "city"
   ]
  },
  {
   "cell_type": "markdown",
   "id": "e90d6c4d-0c3c-4fcd-9878-9e3167f837ce",
   "metadata": {},
   "source": [
    "### Connecting city table to SQL"
   ]
  },
  {
   "cell_type": "code",
   "execution_count": 70,
   "id": "3b83db8c-2d9b-460c-be2a-02094fcab22e",
   "metadata": {},
   "outputs": [
    {
     "data": {
      "text/plain": [
       "3"
      ]
     },
     "execution_count": 70,
     "metadata": {},
     "output_type": "execute_result"
    }
   ],
   "source": [
    "city.to_sql('city',\n",
    "                  if_exists='append',\n",
    "                  con=connection_string,\n",
    "                  index=False)"
   ]
  },
  {
   "cell_type": "markdown",
   "id": "b69d781f-0273-45f8-9f62-806d069c49e6",
   "metadata": {},
   "source": [
    "### Creating table with population"
   ]
  },
  {
   "cell_type": "code",
   "execution_count": 128,
   "id": "cf5003cc-7c42-4654-b214-72f734a3af00",
   "metadata": {},
   "outputs": [],
   "source": [
    "from datetime import datetime # to get today's date\n",
    "import pandas as pd\n",
    "import requests\n",
    "from bs4 import BeautifulSoup\n",
    "\n",
    "def city_population(cities):\n",
    "\n",
    "# create one single list to keep track of all values (instead of having separate lists)\n",
    "    population_data = []\n",
    "\n",
    "    for city in cities:\n",
    "        url = f\"https://www.wikipedia.org/wiki/{city}\"\n",
    "        response = requests.get(url)\n",
    "        city_soup = BeautifulSoup(response.content, 'html.parser')\n",
    "\n",
    "    # extract the relevant information\n",
    "        city_population = city_soup.find(string=\"Population\").find_next(\"td\").get_text()\n",
    "        city_population_clean = city_population.replace(\",\", \"\")\n",
    "        today = datetime.today().strftime(\"%d.%m.%Y\")\n",
    "\n",
    "    # for each city we append a dictionary of values to the list\n",
    "        population_data.append({\"city\": city,\n",
    "                     \"population\": int(city_population_clean),\n",
    "                     \"population_Timestamp\": today\n",
    "                    })\n",
    "\n",
    "    population_data = pd.DataFrame(population_data)\n",
    "    return population_data"
   ]
  },
  {
   "cell_type": "code",
   "execution_count": 130,
   "id": "919f5f0a-4177-4251-80ce-49c9d8a5880b",
   "metadata": {},
   "outputs": [],
   "source": [
    "city_from_sql=pd.read_sql('city',con=connection_string)"
   ]
  },
  {
   "cell_type": "code",
   "execution_count": 132,
   "id": "750ddb5a-6afc-484e-8cb3-1b88f1576b58",
   "metadata": {},
   "outputs": [
    {
     "data": {
      "text/html": [
       "<div>\n",
       "<style scoped>\n",
       "    .dataframe tbody tr th:only-of-type {\n",
       "        vertical-align: middle;\n",
       "    }\n",
       "\n",
       "    .dataframe tbody tr th {\n",
       "        vertical-align: top;\n",
       "    }\n",
       "\n",
       "    .dataframe thead th {\n",
       "        text-align: right;\n",
       "    }\n",
       "</style>\n",
       "<table border=\"1\" class=\"dataframe\">\n",
       "  <thead>\n",
       "    <tr style=\"text-align: right;\">\n",
       "      <th></th>\n",
       "      <th>city_id</th>\n",
       "      <th>city</th>\n",
       "      <th>longitude</th>\n",
       "      <th>latitude</th>\n",
       "      <th>country_id</th>\n",
       "    </tr>\n",
       "  </thead>\n",
       "  <tbody>\n",
       "    <tr>\n",
       "      <th>0</th>\n",
       "      <td>1</td>\n",
       "      <td>Berlin</td>\n",
       "      <td>13.40500</td>\n",
       "      <td>52.5200</td>\n",
       "      <td>1</td>\n",
       "    </tr>\n",
       "    <tr>\n",
       "      <th>1</th>\n",
       "      <td>2</td>\n",
       "      <td>Paris</td>\n",
       "      <td>2.35222</td>\n",
       "      <td>48.8567</td>\n",
       "      <td>2</td>\n",
       "    </tr>\n",
       "    <tr>\n",
       "      <th>2</th>\n",
       "      <td>3</td>\n",
       "      <td>Hamburg</td>\n",
       "      <td>10.00000</td>\n",
       "      <td>53.5500</td>\n",
       "      <td>1</td>\n",
       "    </tr>\n",
       "  </tbody>\n",
       "</table>\n",
       "</div>"
      ],
      "text/plain": [
       "   city_id     city  longitude  latitude  country_id\n",
       "0        1   Berlin   13.40500   52.5200           1\n",
       "1        2    Paris    2.35222   48.8567           2\n",
       "2        3  Hamburg   10.00000   53.5500           1"
      ]
     },
     "execution_count": 132,
     "metadata": {},
     "output_type": "execute_result"
    }
   ],
   "source": [
    "city_from_sql"
   ]
  },
  {
   "cell_type": "code",
   "execution_count": 134,
   "id": "5fe0534d-1ab0-4efa-a9df-5dd24ee58ed9",
   "metadata": {},
   "outputs": [],
   "source": [
    "cities=city_from_sql['city']\n",
    "city_popul=city_population(cities)"
   ]
  },
  {
   "cell_type": "code",
   "execution_count": 136,
   "id": "b67f862c-cb9d-4164-9bd7-85a1b2ca87e1",
   "metadata": {},
   "outputs": [
    {
     "data": {
      "text/html": [
       "<div>\n",
       "<style scoped>\n",
       "    .dataframe tbody tr th:only-of-type {\n",
       "        vertical-align: middle;\n",
       "    }\n",
       "\n",
       "    .dataframe tbody tr th {\n",
       "        vertical-align: top;\n",
       "    }\n",
       "\n",
       "    .dataframe thead th {\n",
       "        text-align: right;\n",
       "    }\n",
       "</style>\n",
       "<table border=\"1\" class=\"dataframe\">\n",
       "  <thead>\n",
       "    <tr style=\"text-align: right;\">\n",
       "      <th></th>\n",
       "      <th>city</th>\n",
       "      <th>population</th>\n",
       "      <th>population_Timestamp</th>\n",
       "    </tr>\n",
       "  </thead>\n",
       "  <tbody>\n",
       "    <tr>\n",
       "      <th>0</th>\n",
       "      <td>Berlin</td>\n",
       "      <td>3596999</td>\n",
       "      <td>20.03.2025</td>\n",
       "    </tr>\n",
       "    <tr>\n",
       "      <th>1</th>\n",
       "      <td>Paris</td>\n",
       "      <td>2048472</td>\n",
       "      <td>20.03.2025</td>\n",
       "    </tr>\n",
       "    <tr>\n",
       "      <th>2</th>\n",
       "      <td>Hamburg</td>\n",
       "      <td>1964021</td>\n",
       "      <td>20.03.2025</td>\n",
       "    </tr>\n",
       "  </tbody>\n",
       "</table>\n",
       "</div>"
      ],
      "text/plain": [
       "      city  population population_Timestamp\n",
       "0   Berlin     3596999           20.03.2025\n",
       "1    Paris     2048472           20.03.2025\n",
       "2  Hamburg     1964021           20.03.2025"
      ]
     },
     "execution_count": 136,
     "metadata": {},
     "output_type": "execute_result"
    }
   ],
   "source": [
    "city_popul"
   ]
  },
  {
   "cell_type": "code",
   "execution_count": 138,
   "id": "a856e645-d724-427f-836d-eb23a04bcb73",
   "metadata": {},
   "outputs": [],
   "source": [
    "city_population=city_popul.merge(city_from_sql,\n",
    "                                on='city',\n",
    "                                how='left')"
   ]
  },
  {
   "cell_type": "code",
   "execution_count": 140,
   "id": "94f25e38-50f5-4a05-8e45-cd44d613721e",
   "metadata": {},
   "outputs": [],
   "source": [
    "city_population.drop(columns=['longitude','latitude','country_id'],inplace=True)"
   ]
  },
  {
   "cell_type": "code",
   "execution_count": 142,
   "id": "c0067924-893b-44f6-943b-628190106579",
   "metadata": {},
   "outputs": [
    {
     "data": {
      "text/html": [
       "<div>\n",
       "<style scoped>\n",
       "    .dataframe tbody tr th:only-of-type {\n",
       "        vertical-align: middle;\n",
       "    }\n",
       "\n",
       "    .dataframe tbody tr th {\n",
       "        vertical-align: top;\n",
       "    }\n",
       "\n",
       "    .dataframe thead th {\n",
       "        text-align: right;\n",
       "    }\n",
       "</style>\n",
       "<table border=\"1\" class=\"dataframe\">\n",
       "  <thead>\n",
       "    <tr style=\"text-align: right;\">\n",
       "      <th></th>\n",
       "      <th>city</th>\n",
       "      <th>population</th>\n",
       "      <th>population_Timestamp</th>\n",
       "      <th>city_id</th>\n",
       "    </tr>\n",
       "  </thead>\n",
       "  <tbody>\n",
       "    <tr>\n",
       "      <th>0</th>\n",
       "      <td>Berlin</td>\n",
       "      <td>3596999</td>\n",
       "      <td>20.03.2025</td>\n",
       "      <td>1</td>\n",
       "    </tr>\n",
       "    <tr>\n",
       "      <th>1</th>\n",
       "      <td>Paris</td>\n",
       "      <td>2048472</td>\n",
       "      <td>20.03.2025</td>\n",
       "      <td>2</td>\n",
       "    </tr>\n",
       "    <tr>\n",
       "      <th>2</th>\n",
       "      <td>Hamburg</td>\n",
       "      <td>1964021</td>\n",
       "      <td>20.03.2025</td>\n",
       "      <td>3</td>\n",
       "    </tr>\n",
       "  </tbody>\n",
       "</table>\n",
       "</div>"
      ],
      "text/plain": [
       "      city  population population_Timestamp  city_id\n",
       "0   Berlin     3596999           20.03.2025        1\n",
       "1    Paris     2048472           20.03.2025        2\n",
       "2  Hamburg     1964021           20.03.2025        3"
      ]
     },
     "execution_count": 142,
     "metadata": {},
     "output_type": "execute_result"
    }
   ],
   "source": [
    "city_population"
   ]
  },
  {
   "cell_type": "code",
   "execution_count": 146,
   "id": "ed5adf18-bc9a-4f5a-af12-ebdabe8e792d",
   "metadata": {},
   "outputs": [
    {
     "name": "stdout",
     "output_type": "stream",
     "text": [
      "<class 'pandas.core.frame.DataFrame'>\n",
      "RangeIndex: 3 entries, 0 to 2\n",
      "Data columns (total 4 columns):\n",
      " #   Column                Non-Null Count  Dtype \n",
      "---  ------                --------------  ----- \n",
      " 0   city                  3 non-null      object\n",
      " 1   population            3 non-null      int64 \n",
      " 2   population_Timestamp  3 non-null      object\n",
      " 3   city_id               3 non-null      int64 \n",
      "dtypes: int64(2), object(2)\n",
      "memory usage: 228.0+ bytes\n"
     ]
    }
   ],
   "source": [
    "city_population.info()"
   ]
  },
  {
   "cell_type": "code",
   "execution_count": 160,
   "id": "633ff786-df67-455a-a9bf-93aa57481755",
   "metadata": {},
   "outputs": [],
   "source": [
    "city_population['population_Timestamp']=pd.to_datetime(city_population['population_Timestamp'])"
   ]
  },
  {
   "cell_type": "code",
   "execution_count": 162,
   "id": "7cea1d10-a7c5-44bd-9635-6bf34bfa8c3d",
   "metadata": {},
   "outputs": [
    {
     "data": {
      "text/plain": [
       "3"
      ]
     },
     "execution_count": 162,
     "metadata": {},
     "output_type": "execute_result"
    }
   ],
   "source": [
    "city_population.to_sql('city_population',\n",
    "                  if_exists='append',\n",
    "                  con=connection_string,\n",
    "                  index=False)"
   ]
  }
 ],
 "metadata": {
  "kernelspec": {
   "display_name": "Python [conda env:base] *",
   "language": "python",
   "name": "conda-base-py"
  },
  "language_info": {
   "codemirror_mode": {
    "name": "ipython",
    "version": 3
   },
   "file_extension": ".py",
   "mimetype": "text/x-python",
   "name": "python",
   "nbconvert_exporter": "python",
   "pygments_lexer": "ipython3",
   "version": "3.12.7"
  }
 },
 "nbformat": 4,
 "nbformat_minor": 5
}
