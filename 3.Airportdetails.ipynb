{
 "cells": [
  {
   "cell_type": "markdown",
   "id": "6207008c-6ef6-4f92-b346-8747d28e8fe2",
   "metadata": {
    "panel-layout": {
     "height": 44.0859375,
     "visible": true,
     "width": 100
    }
   },
   "source": [
    "### Importing important libraries"
   ]
  },
  {
   "cell_type": "code",
   "execution_count": 201,
   "id": "692dd373-2007-4715-a7d9-d3ab53b0c6ca",
   "metadata": {},
   "outputs": [],
   "source": [
    "import pandas as pd\n",
    "import requests\n",
    "import json\n",
    "from your_passwort_file import airport_API, sql_root_passwort"
   ]
  },
  {
   "cell_type": "markdown",
   "id": "7681b3f7-8a9b-4110-b4c2-b7bc4c04a7f7",
   "metadata": {
    "panel-layout": {
     "height": 43.21875,
     "visible": true,
     "width": 100
    }
   },
   "source": [
    "#### Getting Citydata from SQL"
   ]
  },
  {
   "cell_type": "code",
   "execution_count": 203,
   "id": "0ce1f0e7-4da2-4c38-a002-fe7c05f6196b",
   "metadata": {},
   "outputs": [],
   "source": [
    "schema = \"gans\"\n",
    "host = \"127.0.0.1\"\n",
    "user = \"root\"\n",
    "password = sql_root_passwort\n",
    "port = 3306\n",
    "\n",
    "connection_string = f'mysql+pymysql://{user}:{password}@{host}:{port}/{schema}'\n",
    "citydata_from_sql=pd.read_sql(\"city\", con=connection_string)"
   ]
  },
  {
   "cell_type": "code",
   "execution_count": 179,
   "id": "2ffaf966-d5ce-4ff6-ae7b-86729a0748a9",
   "metadata": {
    "panel-layout": {
     "height": 117,
     "visible": true,
     "width": 100
    }
   },
   "outputs": [
    {
     "data": {
      "text/html": [
       "<div>\n",
       "<style scoped>\n",
       "    .dataframe tbody tr th:only-of-type {\n",
       "        vertical-align: middle;\n",
       "    }\n",
       "\n",
       "    .dataframe tbody tr th {\n",
       "        vertical-align: top;\n",
       "    }\n",
       "\n",
       "    .dataframe thead th {\n",
       "        text-align: right;\n",
       "    }\n",
       "</style>\n",
       "<table border=\"1\" class=\"dataframe\">\n",
       "  <thead>\n",
       "    <tr style=\"text-align: right;\">\n",
       "      <th></th>\n",
       "      <th>city_id</th>\n",
       "      <th>city</th>\n",
       "      <th>longitude</th>\n",
       "      <th>latitude</th>\n",
       "      <th>country_id</th>\n",
       "    </tr>\n",
       "  </thead>\n",
       "  <tbody>\n",
       "    <tr>\n",
       "      <th>0</th>\n",
       "      <td>1</td>\n",
       "      <td>Berlin</td>\n",
       "      <td>13.40500</td>\n",
       "      <td>52.5200</td>\n",
       "      <td>1</td>\n",
       "    </tr>\n",
       "    <tr>\n",
       "      <th>1</th>\n",
       "      <td>2</td>\n",
       "      <td>Paris</td>\n",
       "      <td>2.35222</td>\n",
       "      <td>48.8567</td>\n",
       "      <td>2</td>\n",
       "    </tr>\n",
       "    <tr>\n",
       "      <th>2</th>\n",
       "      <td>3</td>\n",
       "      <td>Hamburg</td>\n",
       "      <td>10.00000</td>\n",
       "      <td>53.5500</td>\n",
       "      <td>1</td>\n",
       "    </tr>\n",
       "  </tbody>\n",
       "</table>\n",
       "</div>"
      ],
      "text/plain": [
       "   city_id     city  longitude  latitude  country_id\n",
       "0        1   Berlin   13.40500   52.5200           1\n",
       "1        2    Paris    2.35222   48.8567           2\n",
       "2        3  Hamburg   10.00000   53.5500           1"
      ]
     },
     "execution_count": 179,
     "metadata": {},
     "output_type": "execute_result"
    }
   ],
   "source": [
    "citydata_from_sql"
   ]
  },
  {
   "cell_type": "code",
   "execution_count": 181,
   "id": "c860f307-0a0e-4121-8ad5-695f1fc354f2",
   "metadata": {},
   "outputs": [],
   "source": [
    "api_key=airport_API"
   ]
  },
  {
   "cell_type": "code",
   "execution_count": 153,
   "id": "69daee8a-d91c-4649-b4c3-e9585fdfda59",
   "metadata": {
    "panel-layout": {
     "height": 0,
     "visible": true,
     "width": 100
    }
   },
   "outputs": [
    {
     "name": "stdout",
     "output_type": "stream",
     "text": [
      "{'searchBy': {'lat': 52.311325, 'lon': 13.24}, 'count': 1, 'items': [{'icao': 'EDDB', 'iata': 'BER', 'name': 'Berlin Brandenburg', 'shortName': 'Brandenburg', 'municipalityName': 'Berlin', 'location': {'lat': 52.35139, 'lon': 13.493889}, 'countryCode': 'DE', 'timeZone': 'Europe/Berlin'}]}\n"
     ]
    }
   ],
   "source": [
    "import requests\n",
    "\n",
    "url = \"https://aerodatabox.p.rapidapi.com/airports/search/location\"\n",
    "querystring = {\"lat\":\"52.311324\",\"lon\":\"13.24\",\"radiusKm\":\"50\",\"limit\":\"2\",\"withFlightInfoOnly\":\"true\"}\n",
    "\n",
    "#url = \"https://aerodatabox.p.rapidapi.com/airports/search/location/52.31/13.24/km/50/16\"\n",
    "#querystring = {\"withFlightInfoOnly\":\"true\"}\n",
    "\n",
    "headers = {\n",
    "\t\"X-RapidAPI-Key\": api_key,\n",
    "\t\"X-RapidAPI-Host\": \"aerodatabox.p.rapidapi.com\"\n",
    "}\n",
    "\n",
    "response = requests.request(\"GET\", url, headers=headers, params=querystring)\n",
    "\n",
    "print(response.json())"
   ]
  },
  {
   "cell_type": "code",
   "execution_count": 113,
   "id": "92d61ade-ec90-4eb9-8489-0cdeca55f0ff",
   "metadata": {
    "panel-layout": {
     "height": 68.40625,
     "visible": true,
     "width": 100
    }
   },
   "outputs": [
    {
     "data": {
      "text/plain": [
       "[{'icao': 'EDDB',\n",
       "  'iata': 'BER',\n",
       "  'name': 'Berlin Brandenburg',\n",
       "  'shortName': 'Brandenburg',\n",
       "  'municipalityName': 'Berlin',\n",
       "  'location': {'lat': 52.35139, 'lon': 13.493889},\n",
       "  'countryCode': 'DE',\n",
       "  'timeZone': 'Europe/Berlin'}]"
      ]
     },
     "execution_count": 113,
     "metadata": {},
     "output_type": "execute_result"
    }
   ],
   "source": [
    "response_list=response.json()\n",
    "response_list['items']"
   ]
  },
  {
   "cell_type": "code",
   "execution_count": 115,
   "id": "7678e1c9-f9a7-4679-b4dd-86b060aff2af",
   "metadata": {
    "panel-layout": {
     "height": 51.140625,
     "visible": true,
     "width": 100
    }
   },
   "outputs": [
    {
     "data": {
      "text/plain": [
       "'EDDB'"
      ]
     },
     "execution_count": 115,
     "metadata": {},
     "output_type": "execute_result"
    }
   ],
   "source": [
    "response_list['items'][0].get('icao',None) #icao name for that airport"
   ]
  },
  {
   "cell_type": "code",
   "execution_count": 117,
   "id": "0c324ed4-2b9f-4923-bbca-b213e65c524e",
   "metadata": {
    "panel-layout": {
     "height": 51.140625,
     "visible": true,
     "width": 100
    }
   },
   "outputs": [
    {
     "data": {
      "text/plain": [
       "'Berlin'"
      ]
     },
     "execution_count": 117,
     "metadata": {},
     "output_type": "execute_result"
    }
   ],
   "source": [
    "response_list['items'][0].get('municipalityName',None)#name of the city"
   ]
  },
  {
   "cell_type": "code",
   "execution_count": 119,
   "id": "153b8151-fb12-413c-8c5f-9faa82c44fa3",
   "metadata": {
    "panel-layout": {
     "height": 51.140625,
     "visible": true,
     "width": 100
    }
   },
   "outputs": [
    {
     "data": {
      "text/plain": [
       "'Berlin Brandenburg'"
      ]
     },
     "execution_count": 119,
     "metadata": {},
     "output_type": "execute_result"
    }
   ],
   "source": [
    "response_list['items'][0].get('name',None)#airport name"
   ]
  },
  {
   "cell_type": "code",
   "execution_count": 183,
   "id": "726f0fce-0949-4c04-a75f-b66fabe13f72",
   "metadata": {},
   "outputs": [],
   "source": [
    "def get_airports(latitudes, longitudes):\n",
    "  # API headers\n",
    "    headers = {\n",
    "    \"X-RapidAPI-Key\": api_key,\n",
    "    \"X-RapidAPI-Host\": \"aerodatabox.p.rapidapi.com\"\n",
    "    }\n",
    "\n",
    "    #querystring = {\"withFlightInfoOnly\": \"true\"}\n",
    "    url = \"https://aerodatabox.p.rapidapi.com/airports/search/location\"\n",
    "    \n",
    "  # DataFrame to store results\n",
    "    all_airports = []\n",
    "\n",
    "    for lat, lon in zip(latitudes, longitudes):\n",
    "        # Construct the URL with the latitude and longitude\n",
    "        #url = f\"https://aerodatabox.p.rapidapi.com/airports/search/location/{lat}/{lon}/km/50/16\"\n",
    "        querystring = {\"lat\":lat,\"lon\":lon,\"radiusKm\":\"50\",\"limit\":\"10\",\"withFlightInfoOnly\":\"true\"}\n",
    "\n",
    "    # Make the API request\n",
    "        response = requests.get(url, headers=headers, params=querystring)\n",
    "        #print(response.text)\n",
    "\n",
    "        if response.status_code == 200:\n",
    "          data = response.json()\n",
    "          #print(data)\n",
    "          for item in data['items']:\n",
    "              airports={'airport_icao':item.get('icao',None),\n",
    "                         'airport_name':item.get('name',None),\n",
    "                           'city':item.get('municipalityName',None)}\n",
    "          #airports = pd.json_normalize(data.get('items', []))\n",
    "              all_airports.append(airports)\n",
    "            \n",
    "\n",
    "    return pd.DataFrame(all_airports)"
   ]
  },
  {
   "cell_type": "code",
   "execution_count": 185,
   "id": "508b97f1-74c2-4974-8e3a-82f0c085f4aa",
   "metadata": {},
   "outputs": [],
   "source": [
    "latitudes =citydata_from_sql['latitude']\n",
    "longitudes =citydata_from_sql['longitude']\n",
    "    \n",
    "city_airport_df=get_airports(latitudes, longitudes)"
   ]
  },
  {
   "cell_type": "code",
   "execution_count": 187,
   "id": "7fbd83db-b4d5-4af1-93de-7d7e17493f0a",
   "metadata": {
    "panel-layout": {
     "height": 196.5,
     "visible": true,
     "width": 100
    }
   },
   "outputs": [
    {
     "data": {
      "text/html": [
       "<div>\n",
       "<style scoped>\n",
       "    .dataframe tbody tr th:only-of-type {\n",
       "        vertical-align: middle;\n",
       "    }\n",
       "\n",
       "    .dataframe tbody tr th {\n",
       "        vertical-align: top;\n",
       "    }\n",
       "\n",
       "    .dataframe thead th {\n",
       "        text-align: right;\n",
       "    }\n",
       "</style>\n",
       "<table border=\"1\" class=\"dataframe\">\n",
       "  <thead>\n",
       "    <tr style=\"text-align: right;\">\n",
       "      <th></th>\n",
       "      <th>airport_icao</th>\n",
       "      <th>airport_name</th>\n",
       "      <th>city</th>\n",
       "    </tr>\n",
       "  </thead>\n",
       "  <tbody>\n",
       "    <tr>\n",
       "      <th>0</th>\n",
       "      <td>EDDT</td>\n",
       "      <td>Berlin -Tegel</td>\n",
       "      <td>Berlin</td>\n",
       "    </tr>\n",
       "    <tr>\n",
       "      <th>1</th>\n",
       "      <td>EDDB</td>\n",
       "      <td>Berlin Brandenburg</td>\n",
       "      <td>Berlin</td>\n",
       "    </tr>\n",
       "    <tr>\n",
       "      <th>2</th>\n",
       "      <td>LFPB</td>\n",
       "      <td>Paris -Le Bourget</td>\n",
       "      <td>Paris</td>\n",
       "    </tr>\n",
       "    <tr>\n",
       "      <th>3</th>\n",
       "      <td>LFPO</td>\n",
       "      <td>Paris -Orly</td>\n",
       "      <td>Paris</td>\n",
       "    </tr>\n",
       "    <tr>\n",
       "      <th>4</th>\n",
       "      <td>LFPG</td>\n",
       "      <td>Paris Charles de Gaulle</td>\n",
       "      <td>Paris</td>\n",
       "    </tr>\n",
       "    <tr>\n",
       "      <th>5</th>\n",
       "      <td>EDDH</td>\n",
       "      <td>Hamburg</td>\n",
       "      <td>Hamburg</td>\n",
       "    </tr>\n",
       "  </tbody>\n",
       "</table>\n",
       "</div>"
      ],
      "text/plain": [
       "  airport_icao             airport_name     city\n",
       "0         EDDT            Berlin -Tegel   Berlin\n",
       "1         EDDB       Berlin Brandenburg   Berlin\n",
       "2         LFPB        Paris -Le Bourget    Paris\n",
       "3         LFPO              Paris -Orly    Paris\n",
       "4         LFPG  Paris Charles de Gaulle    Paris\n",
       "5         EDDH                  Hamburg  Hamburg"
      ]
     },
     "execution_count": 187,
     "metadata": {},
     "output_type": "execute_result"
    }
   ],
   "source": [
    "city_airport_df"
   ]
  },
  {
   "cell_type": "code",
   "execution_count": 189,
   "id": "3847404e-de01-4f91-889b-19f560c932cf",
   "metadata": {},
   "outputs": [],
   "source": [
    "city_airport= city_airport_df.merge(citydata_from_sql,\n",
    "                                   on = \"city\",\n",
    "                                   how=\"left\")\n"
   ]
  },
  {
   "cell_type": "code",
   "execution_count": 191,
   "id": "f78b10a2-85d6-468c-a2e3-95027b8fdc13",
   "metadata": {
    "panel-layout": {
     "height": 196.5,
     "visible": true,
     "width": 100
    }
   },
   "outputs": [
    {
     "data": {
      "text/html": [
       "<div>\n",
       "<style scoped>\n",
       "    .dataframe tbody tr th:only-of-type {\n",
       "        vertical-align: middle;\n",
       "    }\n",
       "\n",
       "    .dataframe tbody tr th {\n",
       "        vertical-align: top;\n",
       "    }\n",
       "\n",
       "    .dataframe thead th {\n",
       "        text-align: right;\n",
       "    }\n",
       "</style>\n",
       "<table border=\"1\" class=\"dataframe\">\n",
       "  <thead>\n",
       "    <tr style=\"text-align: right;\">\n",
       "      <th></th>\n",
       "      <th>airport_icao</th>\n",
       "      <th>airport_name</th>\n",
       "      <th>city</th>\n",
       "      <th>city_id</th>\n",
       "      <th>longitude</th>\n",
       "      <th>latitude</th>\n",
       "      <th>country_id</th>\n",
       "    </tr>\n",
       "  </thead>\n",
       "  <tbody>\n",
       "    <tr>\n",
       "      <th>0</th>\n",
       "      <td>EDDT</td>\n",
       "      <td>Berlin -Tegel</td>\n",
       "      <td>Berlin</td>\n",
       "      <td>1</td>\n",
       "      <td>13.40500</td>\n",
       "      <td>52.5200</td>\n",
       "      <td>1</td>\n",
       "    </tr>\n",
       "    <tr>\n",
       "      <th>1</th>\n",
       "      <td>EDDB</td>\n",
       "      <td>Berlin Brandenburg</td>\n",
       "      <td>Berlin</td>\n",
       "      <td>1</td>\n",
       "      <td>13.40500</td>\n",
       "      <td>52.5200</td>\n",
       "      <td>1</td>\n",
       "    </tr>\n",
       "    <tr>\n",
       "      <th>2</th>\n",
       "      <td>LFPB</td>\n",
       "      <td>Paris -Le Bourget</td>\n",
       "      <td>Paris</td>\n",
       "      <td>2</td>\n",
       "      <td>2.35222</td>\n",
       "      <td>48.8567</td>\n",
       "      <td>2</td>\n",
       "    </tr>\n",
       "    <tr>\n",
       "      <th>3</th>\n",
       "      <td>LFPO</td>\n",
       "      <td>Paris -Orly</td>\n",
       "      <td>Paris</td>\n",
       "      <td>2</td>\n",
       "      <td>2.35222</td>\n",
       "      <td>48.8567</td>\n",
       "      <td>2</td>\n",
       "    </tr>\n",
       "    <tr>\n",
       "      <th>4</th>\n",
       "      <td>LFPG</td>\n",
       "      <td>Paris Charles de Gaulle</td>\n",
       "      <td>Paris</td>\n",
       "      <td>2</td>\n",
       "      <td>2.35222</td>\n",
       "      <td>48.8567</td>\n",
       "      <td>2</td>\n",
       "    </tr>\n",
       "    <tr>\n",
       "      <th>5</th>\n",
       "      <td>EDDH</td>\n",
       "      <td>Hamburg</td>\n",
       "      <td>Hamburg</td>\n",
       "      <td>3</td>\n",
       "      <td>10.00000</td>\n",
       "      <td>53.5500</td>\n",
       "      <td>1</td>\n",
       "    </tr>\n",
       "  </tbody>\n",
       "</table>\n",
       "</div>"
      ],
      "text/plain": [
       "  airport_icao             airport_name     city  city_id  longitude  \\\n",
       "0         EDDT            Berlin -Tegel   Berlin        1   13.40500   \n",
       "1         EDDB       Berlin Brandenburg   Berlin        1   13.40500   \n",
       "2         LFPB        Paris -Le Bourget    Paris        2    2.35222   \n",
       "3         LFPO              Paris -Orly    Paris        2    2.35222   \n",
       "4         LFPG  Paris Charles de Gaulle    Paris        2    2.35222   \n",
       "5         EDDH                  Hamburg  Hamburg        3   10.00000   \n",
       "\n",
       "   latitude  country_id  \n",
       "0   52.5200           1  \n",
       "1   52.5200           1  \n",
       "2   48.8567           2  \n",
       "3   48.8567           2  \n",
       "4   48.8567           2  \n",
       "5   53.5500           1  "
      ]
     },
     "execution_count": 191,
     "metadata": {},
     "output_type": "execute_result"
    }
   ],
   "source": [
    "city_airport"
   ]
  },
  {
   "cell_type": "code",
   "execution_count": 193,
   "id": "47ef03de-8b33-4888-bb18-0b3b1fd35f04",
   "metadata": {
    "panel-layout": {
     "height": 0,
     "visible": true,
     "width": 100
    }
   },
   "outputs": [],
   "source": [
    "city_airport.drop(columns=[\"city\",\"longitude\",\"latitude\",\"country_id\"],inplace=True)\n"
   ]
  },
  {
   "cell_type": "code",
   "execution_count": 195,
   "id": "cfbd9a00-2773-4ac5-bd20-9095734f2b7b",
   "metadata": {
    "panel-layout": {
     "height": 196.5,
     "visible": true,
     "width": 100
    }
   },
   "outputs": [
    {
     "data": {
      "text/html": [
       "<div>\n",
       "<style scoped>\n",
       "    .dataframe tbody tr th:only-of-type {\n",
       "        vertical-align: middle;\n",
       "    }\n",
       "\n",
       "    .dataframe tbody tr th {\n",
       "        vertical-align: top;\n",
       "    }\n",
       "\n",
       "    .dataframe thead th {\n",
       "        text-align: right;\n",
       "    }\n",
       "</style>\n",
       "<table border=\"1\" class=\"dataframe\">\n",
       "  <thead>\n",
       "    <tr style=\"text-align: right;\">\n",
       "      <th></th>\n",
       "      <th>airport_icao</th>\n",
       "      <th>airport_name</th>\n",
       "      <th>city_id</th>\n",
       "    </tr>\n",
       "  </thead>\n",
       "  <tbody>\n",
       "    <tr>\n",
       "      <th>0</th>\n",
       "      <td>EDDT</td>\n",
       "      <td>Berlin -Tegel</td>\n",
       "      <td>1</td>\n",
       "    </tr>\n",
       "    <tr>\n",
       "      <th>1</th>\n",
       "      <td>EDDB</td>\n",
       "      <td>Berlin Brandenburg</td>\n",
       "      <td>1</td>\n",
       "    </tr>\n",
       "    <tr>\n",
       "      <th>2</th>\n",
       "      <td>LFPB</td>\n",
       "      <td>Paris -Le Bourget</td>\n",
       "      <td>2</td>\n",
       "    </tr>\n",
       "    <tr>\n",
       "      <th>3</th>\n",
       "      <td>LFPO</td>\n",
       "      <td>Paris -Orly</td>\n",
       "      <td>2</td>\n",
       "    </tr>\n",
       "    <tr>\n",
       "      <th>4</th>\n",
       "      <td>LFPG</td>\n",
       "      <td>Paris Charles de Gaulle</td>\n",
       "      <td>2</td>\n",
       "    </tr>\n",
       "    <tr>\n",
       "      <th>5</th>\n",
       "      <td>EDDH</td>\n",
       "      <td>Hamburg</td>\n",
       "      <td>3</td>\n",
       "    </tr>\n",
       "  </tbody>\n",
       "</table>\n",
       "</div>"
      ],
      "text/plain": [
       "  airport_icao             airport_name  city_id\n",
       "0         EDDT            Berlin -Tegel        1\n",
       "1         EDDB       Berlin Brandenburg        1\n",
       "2         LFPB        Paris -Le Bourget        2\n",
       "3         LFPO              Paris -Orly        2\n",
       "4         LFPG  Paris Charles de Gaulle        2\n",
       "5         EDDH                  Hamburg        3"
      ]
     },
     "execution_count": 195,
     "metadata": {},
     "output_type": "execute_result"
    }
   ],
   "source": [
    "city_airport"
   ]
  },
  {
   "cell_type": "code",
   "execution_count": 215,
   "id": "d78aaabd-59ce-4e9f-a30f-fc441734a9e5",
   "metadata": {
    "panel-layout": {
     "height": 27.140625,
     "visible": true,
     "width": 100
    }
   },
   "outputs": [
    {
     "data": {
      "text/plain": [
       "6"
      ]
     },
     "execution_count": 215,
     "metadata": {},
     "output_type": "execute_result"
    }
   ],
   "source": [
    "city_airport.to_sql('city_airport',\n",
    "                  if_exists='append',\n",
    "                  con=connection_string,\n",
    "                  index=False)"
   ]
  },
  {
   "cell_type": "code",
   "execution_count": 217,
   "id": "70ac065e-b70f-4603-ac8b-1f66f8e447a4",
   "metadata": {},
   "outputs": [],
   "source": [
    "city_airport_from_sql=pd.read_sql('city_airport',\n",
    "                                 con=connection_string)"
   ]
  },
  {
   "cell_type": "code",
   "execution_count": 219,
   "id": "6fe58e49-c890-405f-9182-849ba0be6526",
   "metadata": {},
   "outputs": [
    {
     "data": {
      "text/html": [
       "<div>\n",
       "<style scoped>\n",
       "    .dataframe tbody tr th:only-of-type {\n",
       "        vertical-align: middle;\n",
       "    }\n",
       "\n",
       "    .dataframe tbody tr th {\n",
       "        vertical-align: top;\n",
       "    }\n",
       "\n",
       "    .dataframe thead th {\n",
       "        text-align: right;\n",
       "    }\n",
       "</style>\n",
       "<table border=\"1\" class=\"dataframe\">\n",
       "  <thead>\n",
       "    <tr style=\"text-align: right;\">\n",
       "      <th></th>\n",
       "      <th>icao_id</th>\n",
       "      <th>airport_icao</th>\n",
       "      <th>airport_name</th>\n",
       "      <th>city_id</th>\n",
       "    </tr>\n",
       "  </thead>\n",
       "  <tbody>\n",
       "    <tr>\n",
       "      <th>0</th>\n",
       "      <td>1</td>\n",
       "      <td>EDDT</td>\n",
       "      <td>Berlin -Tegel</td>\n",
       "      <td>1</td>\n",
       "    </tr>\n",
       "    <tr>\n",
       "      <th>1</th>\n",
       "      <td>2</td>\n",
       "      <td>EDDB</td>\n",
       "      <td>Berlin Brandenburg</td>\n",
       "      <td>1</td>\n",
       "    </tr>\n",
       "    <tr>\n",
       "      <th>2</th>\n",
       "      <td>3</td>\n",
       "      <td>LFPB</td>\n",
       "      <td>Paris -Le Bourget</td>\n",
       "      <td>2</td>\n",
       "    </tr>\n",
       "    <tr>\n",
       "      <th>3</th>\n",
       "      <td>4</td>\n",
       "      <td>LFPO</td>\n",
       "      <td>Paris -Orly</td>\n",
       "      <td>2</td>\n",
       "    </tr>\n",
       "    <tr>\n",
       "      <th>4</th>\n",
       "      <td>5</td>\n",
       "      <td>LFPG</td>\n",
       "      <td>Paris Charles de Gaulle</td>\n",
       "      <td>2</td>\n",
       "    </tr>\n",
       "    <tr>\n",
       "      <th>5</th>\n",
       "      <td>6</td>\n",
       "      <td>EDDH</td>\n",
       "      <td>Hamburg</td>\n",
       "      <td>3</td>\n",
       "    </tr>\n",
       "  </tbody>\n",
       "</table>\n",
       "</div>"
      ],
      "text/plain": [
       "   icao_id airport_icao             airport_name  city_id\n",
       "0        1         EDDT            Berlin -Tegel        1\n",
       "1        2         EDDB       Berlin Brandenburg        1\n",
       "2        3         LFPB        Paris -Le Bourget        2\n",
       "3        4         LFPO              Paris -Orly        2\n",
       "4        5         LFPG  Paris Charles de Gaulle        2\n",
       "5        6         EDDH                  Hamburg        3"
      ]
     },
     "execution_count": 219,
     "metadata": {},
     "output_type": "execute_result"
    }
   ],
   "source": [
    "city_airport_from_sql"
   ]
  },
  {
   "cell_type": "markdown",
   "id": "455502a3-437c-46d3-8d8e-0348da858be3",
   "metadata": {},
   "source": [
    "### Creating function with flight details"
   ]
  },
  {
   "cell_type": "code",
   "execution_count": 289,
   "id": "b0968096-7258-4374-9133-7d8715600841",
   "metadata": {},
   "outputs": [],
   "source": [
    "import pandas as pd\n",
    "from datetime import datetime, timedelta\n",
    "import requests\n",
    "from pytz import timezone\n",
    "\n",
    "def flight(icaos):\n",
    "    \n",
    "    api_key=airport_API\n",
    "    berlin_timezone = timezone('Europe/Berlin')\n",
    "    today = datetime.now(berlin_timezone).date()\n",
    "    tomorrow = (today + timedelta(days=1))\n",
    "\n",
    "    \n",
    "    flight_details=[]\n",
    "\n",
    "#icao=\"EGLC\"\n",
    "    for icao in icaos: \n",
    "\n",
    "        # the api can only make 12 hour calls, therefore, two 12 hour calls make a full day\n",
    "        # using the nested lists below we can make a morning call and extract the data\n",
    "        # then make an afternoon call and extract the data\n",
    "        times = [[\"00:00\",\"11:59\"],\n",
    "                [\"12:00\",\"23:59\"]]\n",
    "\n",
    "        for time in times:\n",
    "\n",
    "            url = (f\"https://aerodatabox.p.rapidapi.com/flights/airports/icao/{icao}/{tomorrow}T{time[0]}/{tomorrow}T{time[1]}\")\n",
    "\n",
    "            querystring = {\"withLeg\":\"true\",\"direction\":\"Both\",\"withCancelled\":\"false\",\"withCodeshared\":\"true\",\"withCargo\":\"false\",\"withPrivate\":\"false\",\"withLocation\":\"false\"}\n",
    "\n",
    "            headers = {\n",
    "            \t\"x-rapidapi-key\": api_key,\n",
    "            \t\"x-rapidapi-host\": \"aerodatabox.p.rapidapi.com\"\n",
    "                    }\n",
    "\n",
    "            response = requests.get(url, headers=headers, params=querystring)\n",
    "            if response.status_code == 200:\n",
    "                print('done')\n",
    "                response_list=response.json()\n",
    "                retrieval_time = datetime.now(berlin_timezone).strftime(\"%Y-%m-%d %H:%M:%S\")\n",
    "        \n",
    "                for item in response_list['arrivals']:\n",
    "                    flight_detail={\n",
    "                        \"flight_num\":item.get(\"number\",None),\n",
    "                        \"departure_icao\":item['departure']['airport'].get('icao',None),\n",
    "                        \"arrival_icao\":icao,\n",
    "                        \"scheduled_arrival_time\": item.get(\"departure\", {}).get(\"scheduledTime\", {}).get(\"local\", None),\n",
    "                        \"data_retrieved_at\":retrieval_time\n",
    "                    }\n",
    "                    \n",
    "                flight_details.append(flight_detail)\n",
    "    flights_df = pd.DataFrame(flight_details)\n",
    "    flights_df[\"scheduled_arrival_time\"] = flights_df[\"scheduled_arrival_time\"].str[:-6]\n",
    "    flights_df[\"scheduled_arrival_time\"] = pd.to_datetime(flights_df[\"scheduled_arrival_time\"])\n",
    "    flights_df[\"data_retrieved_at\"] = pd.to_datetime(flights_df[\"data_retrieved_at\"])\n",
    "        \n",
    "    return flights_df\n",
    "    "
   ]
  },
  {
   "cell_type": "code",
   "execution_count": 299,
   "id": "2e8337c5-8d09-4915-8af7-25aa61df8efe",
   "metadata": {},
   "outputs": [
    {
     "name": "stdout",
     "output_type": "stream",
     "text": [
      "done\n",
      "done\n",
      "done\n",
      "done\n",
      "done\n",
      "done\n",
      "done\n",
      "done\n"
     ]
    }
   ],
   "source": [
    "icao_list =city_airport_from_sql['airport_icao']\n",
    "flights_detail=flight(icao_list)\n",
    "#get_flight_data(icao_list)"
   ]
  },
  {
   "cell_type": "code",
   "execution_count": 301,
   "id": "180b2bf7-e871-4b4f-a613-d946bcbc9b91",
   "metadata": {},
   "outputs": [
    {
     "data": {
      "text/html": [
       "<div>\n",
       "<style scoped>\n",
       "    .dataframe tbody tr th:only-of-type {\n",
       "        vertical-align: middle;\n",
       "    }\n",
       "\n",
       "    .dataframe tbody tr th {\n",
       "        vertical-align: top;\n",
       "    }\n",
       "\n",
       "    .dataframe thead th {\n",
       "        text-align: right;\n",
       "    }\n",
       "</style>\n",
       "<table border=\"1\" class=\"dataframe\">\n",
       "  <thead>\n",
       "    <tr style=\"text-align: right;\">\n",
       "      <th></th>\n",
       "      <th>flight_num</th>\n",
       "      <th>departure_icao</th>\n",
       "      <th>arrival_icao</th>\n",
       "      <th>scheduled_arrival_time</th>\n",
       "      <th>data_retrieved_at</th>\n",
       "    </tr>\n",
       "  </thead>\n",
       "  <tbody>\n",
       "    <tr>\n",
       "      <th>0</th>\n",
       "      <td>LH 180</td>\n",
       "      <td>EDDF</td>\n",
       "      <td>EDDB</td>\n",
       "      <td>2025-03-21 10:45:00</td>\n",
       "      <td>2025-03-20 17:12:58</td>\n",
       "    </tr>\n",
       "    <tr>\n",
       "      <th>1</th>\n",
       "      <td>I2 1809</td>\n",
       "      <td>LEMD</td>\n",
       "      <td>EDDB</td>\n",
       "      <td>2025-03-21 20:05:00</td>\n",
       "      <td>2025-03-20 17:12:58</td>\n",
       "    </tr>\n",
       "    <tr>\n",
       "      <th>2</th>\n",
       "      <td>TO 3911</td>\n",
       "      <td>LIRF</td>\n",
       "      <td>LFPO</td>\n",
       "      <td>2025-03-21 09:40:00</td>\n",
       "      <td>2025-03-20 17:12:59</td>\n",
       "    </tr>\n",
       "    <tr>\n",
       "      <th>3</th>\n",
       "      <td>TP 442</td>\n",
       "      <td>LPPT</td>\n",
       "      <td>LFPO</td>\n",
       "      <td>2025-03-21 19:30:00</td>\n",
       "      <td>2025-03-20 17:12:59</td>\n",
       "    </tr>\n",
       "    <tr>\n",
       "      <th>4</th>\n",
       "      <td>AF 459</td>\n",
       "      <td>SBGR</td>\n",
       "      <td>LFPG</td>\n",
       "      <td>2025-03-20 20:30:00</td>\n",
       "      <td>2025-03-20 17:12:59</td>\n",
       "    </tr>\n",
       "    <tr>\n",
       "      <th>5</th>\n",
       "      <td>IB 591</td>\n",
       "      <td>LEMD</td>\n",
       "      <td>LFPG</td>\n",
       "      <td>2025-03-21 21:40:00</td>\n",
       "      <td>2025-03-20 17:13:00</td>\n",
       "    </tr>\n",
       "    <tr>\n",
       "      <th>6</th>\n",
       "      <td>SK 1647</td>\n",
       "      <td>EKCH</td>\n",
       "      <td>EDDH</td>\n",
       "      <td>2025-03-21 10:55:00</td>\n",
       "      <td>2025-03-20 17:13:00</td>\n",
       "    </tr>\n",
       "    <tr>\n",
       "      <th>7</th>\n",
       "      <td>DE 1519</td>\n",
       "      <td>GCLP</td>\n",
       "      <td>EDDH</td>\n",
       "      <td>2025-03-21 16:40:00</td>\n",
       "      <td>2025-03-20 17:13:00</td>\n",
       "    </tr>\n",
       "  </tbody>\n",
       "</table>\n",
       "</div>"
      ],
      "text/plain": [
       "  flight_num departure_icao arrival_icao scheduled_arrival_time  \\\n",
       "0     LH 180           EDDF         EDDB    2025-03-21 10:45:00   \n",
       "1    I2 1809           LEMD         EDDB    2025-03-21 20:05:00   \n",
       "2    TO 3911           LIRF         LFPO    2025-03-21 09:40:00   \n",
       "3     TP 442           LPPT         LFPO    2025-03-21 19:30:00   \n",
       "4     AF 459           SBGR         LFPG    2025-03-20 20:30:00   \n",
       "5     IB 591           LEMD         LFPG    2025-03-21 21:40:00   \n",
       "6    SK 1647           EKCH         EDDH    2025-03-21 10:55:00   \n",
       "7    DE 1519           GCLP         EDDH    2025-03-21 16:40:00   \n",
       "\n",
       "    data_retrieved_at  \n",
       "0 2025-03-20 17:12:58  \n",
       "1 2025-03-20 17:12:58  \n",
       "2 2025-03-20 17:12:59  \n",
       "3 2025-03-20 17:12:59  \n",
       "4 2025-03-20 17:12:59  \n",
       "5 2025-03-20 17:13:00  \n",
       "6 2025-03-20 17:13:00  \n",
       "7 2025-03-20 17:13:00  "
      ]
     },
     "execution_count": 301,
     "metadata": {},
     "output_type": "execute_result"
    }
   ],
   "source": [
    "flights_detail"
   ]
  },
  {
   "cell_type": "code",
   "execution_count": 304,
   "id": "59236a20-9fc6-4af1-b184-570c9c4f7c8d",
   "metadata": {},
   "outputs": [],
   "source": [
    "flights=flights_detail.merge(city_airport_from_sql,\n",
    "                             left_on='arrival_icao',right_on='airport_icao',\n",
    "                             how='left'\n",
    "                            )"
   ]
  },
  {
   "cell_type": "code",
   "execution_count": 310,
   "id": "56d41a5d-e5d0-45e7-85a7-ef9b46807783",
   "metadata": {},
   "outputs": [],
   "source": [
    "flights.drop(columns=['airport_icao','airport_name','city_id'],inplace=True)"
   ]
  },
  {
   "cell_type": "code",
   "execution_count": 312,
   "id": "71945c29-7853-4aa5-86be-8308e1aaac82",
   "metadata": {},
   "outputs": [
    {
     "data": {
      "text/html": [
       "<div>\n",
       "<style scoped>\n",
       "    .dataframe tbody tr th:only-of-type {\n",
       "        vertical-align: middle;\n",
       "    }\n",
       "\n",
       "    .dataframe tbody tr th {\n",
       "        vertical-align: top;\n",
       "    }\n",
       "\n",
       "    .dataframe thead th {\n",
       "        text-align: right;\n",
       "    }\n",
       "</style>\n",
       "<table border=\"1\" class=\"dataframe\">\n",
       "  <thead>\n",
       "    <tr style=\"text-align: right;\">\n",
       "      <th></th>\n",
       "      <th>flight_num</th>\n",
       "      <th>departure_icao</th>\n",
       "      <th>arrival_icao</th>\n",
       "      <th>scheduled_arrival_time</th>\n",
       "      <th>data_retrieved_at</th>\n",
       "      <th>icao_id</th>\n",
       "    </tr>\n",
       "  </thead>\n",
       "  <tbody>\n",
       "    <tr>\n",
       "      <th>0</th>\n",
       "      <td>LH 180</td>\n",
       "      <td>EDDF</td>\n",
       "      <td>EDDB</td>\n",
       "      <td>2025-03-21 10:45:00</td>\n",
       "      <td>2025-03-20 17:12:58</td>\n",
       "      <td>2</td>\n",
       "    </tr>\n",
       "    <tr>\n",
       "      <th>1</th>\n",
       "      <td>I2 1809</td>\n",
       "      <td>LEMD</td>\n",
       "      <td>EDDB</td>\n",
       "      <td>2025-03-21 20:05:00</td>\n",
       "      <td>2025-03-20 17:12:58</td>\n",
       "      <td>2</td>\n",
       "    </tr>\n",
       "    <tr>\n",
       "      <th>2</th>\n",
       "      <td>TO 3911</td>\n",
       "      <td>LIRF</td>\n",
       "      <td>LFPO</td>\n",
       "      <td>2025-03-21 09:40:00</td>\n",
       "      <td>2025-03-20 17:12:59</td>\n",
       "      <td>4</td>\n",
       "    </tr>\n",
       "    <tr>\n",
       "      <th>3</th>\n",
       "      <td>TP 442</td>\n",
       "      <td>LPPT</td>\n",
       "      <td>LFPO</td>\n",
       "      <td>2025-03-21 19:30:00</td>\n",
       "      <td>2025-03-20 17:12:59</td>\n",
       "      <td>4</td>\n",
       "    </tr>\n",
       "    <tr>\n",
       "      <th>4</th>\n",
       "      <td>AF 459</td>\n",
       "      <td>SBGR</td>\n",
       "      <td>LFPG</td>\n",
       "      <td>2025-03-20 20:30:00</td>\n",
       "      <td>2025-03-20 17:12:59</td>\n",
       "      <td>5</td>\n",
       "    </tr>\n",
       "    <tr>\n",
       "      <th>5</th>\n",
       "      <td>IB 591</td>\n",
       "      <td>LEMD</td>\n",
       "      <td>LFPG</td>\n",
       "      <td>2025-03-21 21:40:00</td>\n",
       "      <td>2025-03-20 17:13:00</td>\n",
       "      <td>5</td>\n",
       "    </tr>\n",
       "    <tr>\n",
       "      <th>6</th>\n",
       "      <td>SK 1647</td>\n",
       "      <td>EKCH</td>\n",
       "      <td>EDDH</td>\n",
       "      <td>2025-03-21 10:55:00</td>\n",
       "      <td>2025-03-20 17:13:00</td>\n",
       "      <td>6</td>\n",
       "    </tr>\n",
       "    <tr>\n",
       "      <th>7</th>\n",
       "      <td>DE 1519</td>\n",
       "      <td>GCLP</td>\n",
       "      <td>EDDH</td>\n",
       "      <td>2025-03-21 16:40:00</td>\n",
       "      <td>2025-03-20 17:13:00</td>\n",
       "      <td>6</td>\n",
       "    </tr>\n",
       "  </tbody>\n",
       "</table>\n",
       "</div>"
      ],
      "text/plain": [
       "  flight_num departure_icao arrival_icao scheduled_arrival_time  \\\n",
       "0     LH 180           EDDF         EDDB    2025-03-21 10:45:00   \n",
       "1    I2 1809           LEMD         EDDB    2025-03-21 20:05:00   \n",
       "2    TO 3911           LIRF         LFPO    2025-03-21 09:40:00   \n",
       "3     TP 442           LPPT         LFPO    2025-03-21 19:30:00   \n",
       "4     AF 459           SBGR         LFPG    2025-03-20 20:30:00   \n",
       "5     IB 591           LEMD         LFPG    2025-03-21 21:40:00   \n",
       "6    SK 1647           EKCH         EDDH    2025-03-21 10:55:00   \n",
       "7    DE 1519           GCLP         EDDH    2025-03-21 16:40:00   \n",
       "\n",
       "    data_retrieved_at  icao_id  \n",
       "0 2025-03-20 17:12:58        2  \n",
       "1 2025-03-20 17:12:58        2  \n",
       "2 2025-03-20 17:12:59        4  \n",
       "3 2025-03-20 17:12:59        4  \n",
       "4 2025-03-20 17:12:59        5  \n",
       "5 2025-03-20 17:13:00        5  \n",
       "6 2025-03-20 17:13:00        6  \n",
       "7 2025-03-20 17:13:00        6  "
      ]
     },
     "execution_count": 312,
     "metadata": {},
     "output_type": "execute_result"
    }
   ],
   "source": [
    "flights"
   ]
  },
  {
   "cell_type": "markdown",
   "id": "9e855b11-0941-4be7-8ebe-adeafbea95c3",
   "metadata": {},
   "source": [
    "### Connecting Flight table into SQL"
   ]
  },
  {
   "cell_type": "code",
   "execution_count": 315,
   "id": "de8962ac-1ac3-4f27-ae74-011703428164",
   "metadata": {},
   "outputs": [
    {
     "data": {
      "text/plain": [
       "8"
      ]
     },
     "execution_count": 315,
     "metadata": {},
     "output_type": "execute_result"
    }
   ],
   "source": [
    "flights.to_sql('flights',\n",
    "              if_exists='append',\n",
    "                  con=connection_string,\n",
    "                  index=False)"
   ]
  }
 ],
 "metadata": {
  "kernelspec": {
   "display_name": "Python [conda env:base] *",
   "language": "python",
   "name": "conda-base-py"
  },
  "language_info": {
   "codemirror_mode": {
    "name": "ipython",
    "version": 3
   },
   "file_extension": ".py",
   "mimetype": "text/x-python",
   "name": "python",
   "nbconvert_exporter": "python",
   "pygments_lexer": "ipython3",
   "version": "3.12.7"
  },
  "panel-cell-order": [
   "6207008c-6ef6-4f92-b346-8747d28e8fe2",
   "7681b3f7-8a9b-4110-b4c2-b7bc4c04a7f7",
   "2ffaf966-d5ce-4ff6-ae7b-86729a0748a9",
   "69daee8a-d91c-4649-b4c3-e9585fdfda59",
   "92d61ade-ec90-4eb9-8489-0cdeca55f0ff",
   "7678e1c9-f9a7-4679-b4dd-86b060aff2af",
   "0c324ed4-2b9f-4923-bbca-b213e65c524e",
   "153b8151-fb12-413c-8c5f-9faa82c44fa3",
   "7fbd83db-b4d5-4af1-93de-7d7e17493f0a",
   "f78b10a2-85d6-468c-a2e3-95027b8fdc13",
   "47ef03de-8b33-4888-bb18-0b3b1fd35f04",
   "cfbd9a00-2773-4ac5-bd20-9095734f2b7b",
   "d78aaabd-59ce-4e9f-a30f-fc441734a9e5"
  ]
 },
 "nbformat": 4,
 "nbformat_minor": 5
}
