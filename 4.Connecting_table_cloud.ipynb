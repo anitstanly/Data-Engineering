{
 "cells": [
  {
   "cell_type": "code",
   "execution_count": 6,
   "id": "25da9828-5efb-43fb-b991-cf699084a9e2",
   "metadata": {},
   "outputs": [],
   "source": [
    "import pandas as pd\n",
    "import sqlalchemy\n",
    "from connection_cloud import connection_string as con_cloud\n",
    "from connection_local import connection_string as con_local"
   ]
  },
  {
   "cell_type": "code",
   "execution_count": 8,
   "id": "f71f476e-24a5-4e83-b8ab-fa411ff0ce99",
   "metadata": {},
   "outputs": [],
   "source": [
    "country=pd.read_sql(\"country\",con=con_local)"
   ]
  },
  {
   "cell_type": "code",
   "execution_count": 10,
   "id": "f70bbe10-f36a-4957-ac06-20ab7dbf729e",
   "metadata": {},
   "outputs": [
    {
     "data": {
      "text/plain": [
       "3"
      ]
     },
     "execution_count": 10,
     "metadata": {},
     "output_type": "execute_result"
    }
   ],
   "source": [
    "country.to_sql(\"country\",\n",
    "               con=con_cloud,\n",
    "              if_exists=\"append\",\n",
    "              index=False)"
   ]
  },
  {
   "cell_type": "code",
   "execution_count": 12,
   "id": "83fd5b2d-29ec-401c-be57-c8f4f2f2fc32",
   "metadata": {},
   "outputs": [],
   "source": [
    "city=pd.read_sql(\"city\",con=con_local)"
   ]
  },
  {
   "cell_type": "code",
   "execution_count": 14,
   "id": "72ebdfe2-5901-4781-a6a5-a3e03a2a80e1",
   "metadata": {},
   "outputs": [
    {
     "data": {
      "text/plain": [
       "3"
      ]
     },
     "execution_count": 14,
     "metadata": {},
     "output_type": "execute_result"
    }
   ],
   "source": [
    "city.to_sql(\"city\",\n",
    "               con=con_cloud,\n",
    "              if_exists=\"append\",\n",
    "              index=False)"
   ]
  },
  {
   "cell_type": "code",
   "execution_count": 18,
   "id": "1447e318-9543-463e-a482-a09f2f65f973",
   "metadata": {},
   "outputs": [],
   "source": [
    "city_population=pd.read_sql(\"city_population\",con=con_local)"
   ]
  },
  {
   "cell_type": "code",
   "execution_count": 20,
   "id": "9cccca63-5c44-45b8-8497-24534c80a6a6",
   "metadata": {},
   "outputs": [
    {
     "data": {
      "text/plain": [
       "3"
      ]
     },
     "execution_count": 20,
     "metadata": {},
     "output_type": "execute_result"
    }
   ],
   "source": [
    "city_population.to_sql(\"city_population\",\n",
    "               con=con_cloud,\n",
    "              if_exists=\"append\",\n",
    "              index=False)"
   ]
  },
  {
   "cell_type": "code",
   "execution_count": 24,
   "id": "96357e40-f5b9-42c7-8955-99b903d30a81",
   "metadata": {},
   "outputs": [],
   "source": [
    "weather=pd.read_sql(\"weather\",con=con_local)"
   ]
  },
  {
   "cell_type": "code",
   "execution_count": 26,
   "id": "85afc1d5-4ca3-4886-827c-b759e4e4add0",
   "metadata": {},
   "outputs": [
    {
     "data": {
      "text/plain": [
       "120"
      ]
     },
     "execution_count": 26,
     "metadata": {},
     "output_type": "execute_result"
    }
   ],
   "source": [
    "weather.to_sql(\"weather\",\n",
    "              con=con_cloud,\n",
    "              if_exists=\"append\",\n",
    "              index=False)"
   ]
  },
  {
   "cell_type": "code",
   "execution_count": 28,
   "id": "53ff2bc7-826c-4389-8b82-a51f3eb52989",
   "metadata": {},
   "outputs": [],
   "source": [
    "city_airport=pd.read_sql(\"city_airport\",con=con_local)"
   ]
  },
  {
   "cell_type": "code",
   "execution_count": 30,
   "id": "bd06ca45-4fde-44bb-888e-da769b05a9f8",
   "metadata": {},
   "outputs": [
    {
     "data": {
      "text/plain": [
       "6"
      ]
     },
     "execution_count": 30,
     "metadata": {},
     "output_type": "execute_result"
    }
   ],
   "source": [
    "city_airport.to_sql(\"city_airport\",\n",
    "                   con=con_cloud,\n",
    "                   if_exists=\"append\",\n",
    "                   index=False)"
   ]
  },
  {
   "cell_type": "code",
   "execution_count": 32,
   "id": "c3a995c4-751a-4724-bf61-f135a432e997",
   "metadata": {},
   "outputs": [],
   "source": [
    "flights=pd.read_sql(\"flights\",con=con_local)"
   ]
  },
  {
   "cell_type": "code",
   "execution_count": 34,
   "id": "4e3a5596-e889-449c-8fe6-ce389ca277de",
   "metadata": {},
   "outputs": [
    {
     "data": {
      "text/plain": [
       "8"
      ]
     },
     "execution_count": 34,
     "metadata": {},
     "output_type": "execute_result"
    }
   ],
   "source": [
    "flights.to_sql(\"flights\",\n",
    "              con=con_cloud,\n",
    "              if_exists=\"append\",\n",
    "              index=False)"
   ]
  }
 ],
 "metadata": {
  "kernelspec": {
   "display_name": "Python [conda env:base] *",
   "language": "python",
   "name": "conda-base-py"
  },
  "language_info": {
   "codemirror_mode": {
    "name": "ipython",
    "version": 3
   },
   "file_extension": ".py",
   "mimetype": "text/x-python",
   "name": "python",
   "nbconvert_exporter": "python",
   "pygments_lexer": "ipython3",
   "version": "3.12.7"
  }
 },
 "nbformat": 4,
 "nbformat_minor": 5
}
