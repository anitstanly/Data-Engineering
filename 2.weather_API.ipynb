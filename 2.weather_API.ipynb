{
 "cells": [
  {
   "cell_type": "markdown",
   "id": "409e775b-7d9b-4c4c-958a-378e64e7f49f",
   "metadata": {},
   "source": [
    "### Connecting weather data to SQL"
   ]
  },
  {
   "cell_type": "code",
   "execution_count": 6,
   "id": "00384a9f-3e4f-473f-8b00-d74d120f74b2",
   "metadata": {},
   "outputs": [],
   "source": [
    "import pandas as pd\n",
    "import requests\n",
    "from datetime import datetime\n",
    "from your_passwort_file import weather_API, sql_root_passwort"
   ]
  },
  {
   "cell_type": "code",
   "execution_count": 12,
   "id": "027709d2-5729-4dee-b8f4-8a4a078053d1",
   "metadata": {},
   "outputs": [],
   "source": [
    "import pandas as pd\n",
    "import requests\n",
    "from pytz import timezone\n",
    "from datetime import datetime\n",
    "\n",
    "def retrieve_and_send_data():\n",
    "  connection_string = create_connection_string()\n",
    "  cities_df = fetch_cities_data(connection_string)\n",
    "  weather_df = fetch_weather_data(cities_df)\n",
    "  store_weather_data(weather_df, connection_string)\n",
    "  return \"Data has been updated\"\n",
    "\n",
    "def create_connection_string():\n",
    "    schema = \"gans\"\n",
    "    host = \"127.0.0.1\"\n",
    "    user = \"root\"\n",
    "    password = sql_root_passwort\n",
    "    port = 3306\n",
    "    return f'mysql+pymysql://{user}:{password}@{host}:{port}/{schema}'\n",
    "\n",
    "def fetch_cities_data(connection_string):\n",
    "  return pd.read_sql(\"city\", con=connection_string)\n",
    "\n",
    "def fetch_weather_data(cities_df):\n",
    "  berlin_timezone = timezone('Europe/Berlin')\n",
    "  API_key = weather_API\n",
    "  weather_items = []\n",
    "\n",
    "  for _, city in cities_df.iterrows():\n",
    "      latitude = city[\"latitude\"]\n",
    "      longitude = city[\"longitude\"]\n",
    "      city_id = city[\"city_id\"]\n",
    "\n",
    "      url = (f\"https://api.openweathermap.org/data/2.5/forecast?lat={latitude}&lon={longitude}&appid={API_key}&units=metric\")\n",
    "      response = requests.get(url)\n",
    "      weather_data = response.json()\n",
    "\n",
    "      retrieval_time = datetime.now(berlin_timezone).strftime(\"%Y-%m-%d %H:%M:%S\")\n",
    "\n",
    "      for item in weather_data[\"list\"]:\n",
    "          weather_item = {\n",
    "              \"city_id\": city_id,\n",
    "              \"forecast_time\": item.get(\"dt_txt\"),\n",
    "              \"temperature\": item[\"main\"].get(\"temp\"),\n",
    "              \"outlook\": item[\"weather\"][0].get(\"main\"),\n",
    "              \"rain_in_last_3h\": item.get(\"rain\", {}).get(\"3h\", 0),\n",
    "              \"wind_speed\": item[\"wind\"].get(\"speed\"),\n",
    "              \"data_retrieved_at\": retrieval_time\n",
    "          }\n",
    "          weather_items.append(weather_item)\n",
    "\n",
    "  weather_df = pd.DataFrame(weather_items)\n",
    "  weather_df[\"forecast_time\"] = pd.to_datetime(weather_df[\"forecast_time\"])\n",
    "  weather_df[\"data_retrieved_at\"] = pd.to_datetime(weather_df[\"data_retrieved_at\"])\n",
    "\n",
    "  return weather_df\n",
    "\n",
    "def store_weather_data(weather_df, connection_string):\n",
    "  weather_df.to_sql('weather',\n",
    "                    if_exists='append',\n",
    "                    con=connection_string,\n",
    "                    index=False)"
   ]
  },
  {
   "cell_type": "code",
   "execution_count": 14,
   "id": "de95ac57-47c6-47e0-a1ed-6481c8642dee",
   "metadata": {},
   "outputs": [
    {
     "data": {
      "text/plain": [
       "'Data has been updated'"
      ]
     },
     "execution_count": 14,
     "metadata": {},
     "output_type": "execute_result"
    }
   ],
   "source": [
    "retrieve_and_send_data()"
   ]
  }
 ],
 "metadata": {
  "kernelspec": {
   "display_name": "Python [conda env:base] *",
   "language": "python",
   "name": "conda-base-py"
  },
  "language_info": {
   "codemirror_mode": {
    "name": "ipython",
    "version": 3
   },
   "file_extension": ".py",
   "mimetype": "text/x-python",
   "name": "python",
   "nbconvert_exporter": "python",
   "pygments_lexer": "ipython3",
   "version": "3.12.7"
  }
 },
 "nbformat": 4,
 "nbformat_minor": 5
}
